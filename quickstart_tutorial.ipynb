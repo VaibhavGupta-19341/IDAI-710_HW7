{
  "cells": [
    {
      "cell_type": "markdown",
      "metadata": {
        "id": "view-in-github",
        "colab_type": "text"
      },
      "source": [
        "<a href=\"https://colab.research.google.com/github/VaibhavGupta-19341/IDAI-710_HW7/blob/main/quickstart_tutorial.ipynb\" target=\"_parent\"><img src=\"https://colab.research.google.com/assets/colab-badge.svg\" alt=\"Open In Colab\"/></a>"
      ]
    },
    {
      "cell_type": "code",
      "execution_count": 1,
      "metadata": {
        "id": "ealvk1vnv3S_"
      },
      "outputs": [],
      "source": [
        "# For tips on running notebooks in Google Colab, see\n",
        "# https://pytorch.org/tutorials/beginner/colab\n",
        "%matplotlib inline"
      ]
    },
    {
      "cell_type": "markdown",
      "metadata": {
        "id": "5SQLD1eiv3TC"
      },
      "source": [
        "[Learn the Basics](intro.html) \\|\\| **Quickstart** \\|\\|\n",
        "[Tensors](tensorqs_tutorial.html) \\|\\| [Datasets &\n",
        "DataLoaders](data_tutorial.html) \\|\\|\n",
        "[Transforms](transforms_tutorial.html) \\|\\| [Build\n",
        "Model](buildmodel_tutorial.html) \\|\\|\n",
        "[Autograd](autogradqs_tutorial.html) \\|\\|\n",
        "[Optimization](optimization_tutorial.html) \\|\\| [Save & Load\n",
        "Model](saveloadrun_tutorial.html)\n",
        "\n",
        "Quickstart\n",
        "==========\n",
        "\n",
        "This section runs through the API for common tasks in machine learning.\n",
        "Refer to the links in each section to dive deeper.\n",
        "\n",
        "Working with data\n",
        "-----------------\n",
        "\n",
        "PyTorch has two [primitives to work with\n",
        "data](https://pytorch.org/docs/stable/data.html):\n",
        "`torch.utils.data.DataLoader` and `torch.utils.data.Dataset`. `Dataset`\n",
        "stores the samples and their corresponding labels, and `DataLoader`\n",
        "wraps an iterable around the `Dataset`.\n"
      ]
    },
    {
      "cell_type": "code",
      "execution_count": 2,
      "metadata": {
        "id": "JvUwd8xgv3TD"
      },
      "outputs": [],
      "source": [
        "import torch\n",
        "from torch import nn\n",
        "from torch.utils.data import DataLoader\n",
        "from torchvision import datasets\n",
        "from torchvision.transforms import ToTensor\n",
        "\n",
        "import matplotlib.pyplot as plt"
      ]
    },
    {
      "cell_type": "markdown",
      "metadata": {
        "id": "-BFiK7Q6v3TE"
      },
      "source": [
        "PyTorch offers domain-specific libraries such as\n",
        "[TorchText](https://pytorch.org/text/stable/index.html),\n",
        "[TorchVision](https://pytorch.org/vision/stable/index.html), and\n",
        "[TorchAudio](https://pytorch.org/audio/stable/index.html), all of which\n",
        "include datasets. For this tutorial, we will be using a TorchVision\n",
        "dataset.\n",
        "\n",
        "The `torchvision.datasets` module contains `Dataset` objects for many\n",
        "real-world vision data like CIFAR, COCO ([full list\n",
        "here](https://pytorch.org/vision/stable/datasets.html)). In this\n",
        "tutorial, we use the FashionMNIST dataset. Every TorchVision `Dataset`\n",
        "includes two arguments: `transform` and `target_transform` to modify the\n",
        "samples and labels respectively.\n"
      ]
    },
    {
      "cell_type": "code",
      "execution_count": 3,
      "metadata": {
        "id": "Gj_qPerOv3TF",
        "outputId": "a0a883e8-9b13-41cc-98be-f8b0d4d6b0f7",
        "colab": {
          "base_uri": "https://localhost:8080/"
        }
      },
      "outputs": [
        {
          "output_type": "stream",
          "name": "stderr",
          "text": [
            "100%|██████████| 26.4M/26.4M [00:01<00:00, 15.7MB/s]\n",
            "100%|██████████| 29.5k/29.5k [00:00<00:00, 274kB/s]\n",
            "100%|██████████| 4.42M/4.42M [00:00<00:00, 4.50MB/s]\n",
            "100%|██████████| 5.15k/5.15k [00:00<00:00, 7.75MB/s]\n"
          ]
        }
      ],
      "source": [
        "# Download training data from open datasets.\n",
        "training_data = datasets.FashionMNIST(\n",
        "    root=\"data\",\n",
        "    train=True,\n",
        "    download=True,\n",
        "    transform=ToTensor(),\n",
        ")\n",
        "\n",
        "# Download test data from open datasets.\n",
        "test_data = datasets.FashionMNIST(\n",
        "    root=\"data\",\n",
        "    train=False,\n",
        "    download=True,\n",
        "    transform=ToTensor(),\n",
        ")"
      ]
    },
    {
      "cell_type": "markdown",
      "metadata": {
        "id": "U00PGQhxv3TF"
      },
      "source": [
        "We pass the `Dataset` as an argument to `DataLoader`. This wraps an\n",
        "iterable over our dataset, and supports automatic batching, sampling,\n",
        "shuffling and multiprocess data loading. Here we define a batch size of\n",
        "64, i.e. each element in the dataloader iterable will return a batch of\n",
        "64 features and labels.\n"
      ]
    },
    {
      "cell_type": "code",
      "execution_count": 4,
      "metadata": {
        "id": "B7VZQBkfv3TF",
        "outputId": "5b4db113-79d0-44be-c93c-49eecadbba66",
        "colab": {
          "base_uri": "https://localhost:8080/"
        }
      },
      "outputs": [
        {
          "output_type": "stream",
          "name": "stdout",
          "text": [
            "Shape of X [N, C, H, W]: torch.Size([64, 1, 28, 28])\n",
            "Shape of y: torch.Size([64]) torch.int64\n"
          ]
        }
      ],
      "source": [
        "batch_size = 64\n",
        "\n",
        "# Create data loaders.\n",
        "train_dataloader = DataLoader(training_data, batch_size=batch_size)\n",
        "test_dataloader = DataLoader(test_data, batch_size=batch_size)\n",
        "\n",
        "for X, y in test_dataloader:\n",
        "    print(f\"Shape of X [N, C, H, W]: {X.shape}\")\n",
        "    print(f\"Shape of y: {y.shape} {y.dtype}\")\n",
        "    break"
      ]
    },
    {
      "cell_type": "markdown",
      "metadata": {
        "id": "Q7ETg7S6v3TG"
      },
      "source": [
        "Read more about [loading data in PyTorch](data_tutorial.html).\n"
      ]
    },
    {
      "cell_type": "markdown",
      "metadata": {
        "id": "YIuSwQYlv3TG"
      },
      "source": [
        "------------------------------------------------------------------------\n"
      ]
    },
    {
      "cell_type": "markdown",
      "metadata": {
        "id": "XiFB5HSnv3TG"
      },
      "source": [
        "Creating Models\n",
        "===============\n",
        "\n",
        "To define a neural network in PyTorch, we create a class that inherits\n",
        "from\n",
        "[nn.Module](https://pytorch.org/docs/stable/generated/torch.nn.Module.html).\n",
        "We define the layers of the network in the `__init__` function and\n",
        "specify how data will pass through the network in the `forward`\n",
        "function. To accelerate operations in the neural network, we move it to\n",
        "the\n",
        "[accelerator](https://pytorch.org/docs/stable/torch.html#accelerators)\n",
        "such as CUDA, MPS, MTIA, or XPU. If the current accelerator is\n",
        "available, we will use it. Otherwise, we use the CPU.\n"
      ]
    },
    {
      "cell_type": "code",
      "execution_count": 5,
      "metadata": {
        "id": "zTrtEzkVv3TH",
        "outputId": "f5e5c5e3-6772-4929-9ac5-6aa7fe5f5dda",
        "colab": {
          "base_uri": "https://localhost:8080/"
        }
      },
      "outputs": [
        {
          "output_type": "stream",
          "name": "stdout",
          "text": [
            "Using cpu device\n",
            "NeuralNetwork(\n",
            "  (flatten): Flatten(start_dim=1, end_dim=-1)\n",
            "  (linear_relu_stack): Sequential(\n",
            "    (0): Linear(in_features=784, out_features=512, bias=True)\n",
            "    (1): ReLU()\n",
            "    (2): Linear(in_features=512, out_features=512, bias=True)\n",
            "    (3): ReLU()\n",
            "    (4): Linear(in_features=512, out_features=10, bias=True)\n",
            "  )\n",
            ")\n"
          ]
        }
      ],
      "source": [
        "device = torch.accelerator.current_accelerator().type if torch.accelerator.is_available() else \"cpu\"\n",
        "print(f\"Using {device} device\")\n",
        "\n",
        "# Define model\n",
        "class NeuralNetwork(nn.Module):\n",
        "    def __init__(self):\n",
        "        super().__init__()\n",
        "        self.flatten = nn.Flatten()\n",
        "        self.linear_relu_stack = nn.Sequential(\n",
        "            nn.Linear(28*28, 512),\n",
        "            nn.ReLU(),\n",
        "            nn.Linear(512, 512),\n",
        "            nn.ReLU(),\n",
        "            nn.Linear(512, 10)\n",
        "        )\n",
        "\n",
        "    def forward(self, x):\n",
        "        x = self.flatten(x)\n",
        "        logits = self.linear_relu_stack(x)\n",
        "        return logits\n",
        "\n",
        "model = NeuralNetwork().to(device)\n",
        "print(model)"
      ]
    },
    {
      "cell_type": "markdown",
      "metadata": {
        "id": "phJt2BpQv3TH"
      },
      "source": [
        "Read more about [building neural networks in\n",
        "PyTorch](buildmodel_tutorial.html).\n"
      ]
    },
    {
      "cell_type": "markdown",
      "metadata": {
        "id": "P3QaXxK0v3TH"
      },
      "source": [
        "------------------------------------------------------------------------\n"
      ]
    },
    {
      "cell_type": "markdown",
      "metadata": {
        "id": "Os8Y0mIAv3TH"
      },
      "source": [
        "Optimizing the Model Parameters\n",
        "===============================\n",
        "\n",
        "To train a model, we need a [loss\n",
        "function](https://pytorch.org/docs/stable/nn.html#loss-functions) and an\n",
        "[optimizer](https://pytorch.org/docs/stable/optim.html).\n"
      ]
    },
    {
      "cell_type": "code",
      "execution_count": 6,
      "metadata": {
        "id": "tZXDGLjTv3TH"
      },
      "outputs": [],
      "source": [
        "loss_fn = nn.CrossEntropyLoss()\n",
        "optimizer = torch.optim.SGD(model.parameters(), lr=1e-3)"
      ]
    },
    {
      "cell_type": "markdown",
      "metadata": {
        "id": "jPzxDBIov3TH"
      },
      "source": [
        "In a single training loop, the model makes predictions on the training\n",
        "dataset (fed to it in batches), and backpropagates the prediction error\n",
        "to adjust the model\\'s parameters.\n"
      ]
    },
    {
      "cell_type": "code",
      "execution_count": 7,
      "metadata": {
        "id": "yHbjslnev3TH"
      },
      "outputs": [],
      "source": [
        "def train(dataloader, model, loss_fn, optimizer):\n",
        "    size = len(dataloader.dataset)\n",
        "    num_batches = len(dataloader)\n",
        "    total_loss = 0\n",
        "    model.train()\n",
        "    for batch, (X, y) in enumerate(dataloader):\n",
        "        X, y = X.to(device), y.to(device)\n",
        "\n",
        "        # Compute prediction error\n",
        "        pred = model(X)\n",
        "        loss = loss_fn(pred, y)\n",
        "        total_loss += loss.item()\n",
        "\n",
        "        # Backpropagation\n",
        "        loss.backward()\n",
        "        optimizer.step()\n",
        "        optimizer.zero_grad()\n",
        "\n",
        "        if batch % 100 == 0:\n",
        "            loss, current = loss.item(), (batch + 1) * len(X)\n",
        "            print(f\"loss: {loss:>7f}  [{current:>5d}/{size:>5d}]\")\n",
        "    return total_loss / num_batches"
      ]
    },
    {
      "cell_type": "markdown",
      "metadata": {
        "id": "yiujEtmKv3TI"
      },
      "source": [
        "We also check the model\\'s performance against the test dataset to\n",
        "ensure it is learning.\n"
      ]
    },
    {
      "cell_type": "code",
      "execution_count": 8,
      "metadata": {
        "id": "LUojl8XEv3TI"
      },
      "outputs": [],
      "source": [
        "def test(dataloader, model, loss_fn):\n",
        "    size = len(dataloader.dataset)\n",
        "    num_batches = len(dataloader)\n",
        "    model.eval()\n",
        "    test_loss, correct = 0, 0\n",
        "    with torch.no_grad():\n",
        "        for X, y in dataloader:\n",
        "            X, y = X.to(device), y.to(device)\n",
        "            pred = model(X)\n",
        "            test_loss += loss_fn(pred, y).item()\n",
        "            correct += (pred.argmax(1) == y).type(torch.float).sum().item()\n",
        "    test_loss /= num_batches\n",
        "    correct /= size\n",
        "    print(f\"Test Error: \\n Accuracy: {(100*correct):>0.1f}%, Avg loss: {test_loss:>8f} \\n\")\n",
        "    return test_loss"
      ]
    },
    {
      "cell_type": "markdown",
      "metadata": {
        "id": "l5Ub1-Q6v3TI"
      },
      "source": [
        "The training process is conducted over several iterations (*epochs*).\n",
        "During each epoch, the model learns parameters to make better\n",
        "predictions. We print the model\\'s accuracy and loss at each epoch;\n",
        "we\\'d like to see the accuracy increase and the loss decrease with every\n",
        "epoch.\n"
      ]
    },
    {
      "cell_type": "code",
      "execution_count": 9,
      "metadata": {
        "id": "-EXc2O__v3TI",
        "outputId": "93d409f2-41c7-419a-a2f5-e2db7fb5fc3e",
        "colab": {
          "base_uri": "https://localhost:8080/",
          "height": 1000
        }
      },
      "outputs": [
        {
          "output_type": "stream",
          "name": "stdout",
          "text": [
            "Epoch 1\n",
            "-------------------------------\n",
            "loss: 2.289649  [   64/60000]\n",
            "loss: 2.289799  [ 6464/60000]\n",
            "loss: 2.265640  [12864/60000]\n",
            "loss: 2.266460  [19264/60000]\n",
            "loss: 2.251485  [25664/60000]\n",
            "loss: 2.217247  [32064/60000]\n",
            "loss: 2.227468  [38464/60000]\n",
            "loss: 2.189024  [44864/60000]\n",
            "loss: 2.197242  [51264/60000]\n",
            "loss: 2.161589  [57664/60000]\n",
            "Test Error: \n",
            " Accuracy: 37.9%, Avg loss: 2.158634 \n",
            "\n",
            "Epoch 2\n",
            "-------------------------------\n",
            "loss: 2.160945  [   64/60000]\n",
            "loss: 2.156958  [ 6464/60000]\n",
            "loss: 2.101645  [12864/60000]\n",
            "loss: 2.119891  [19264/60000]\n",
            "loss: 2.068877  [25664/60000]\n",
            "loss: 2.012418  [32064/60000]\n",
            "loss: 2.037988  [38464/60000]\n",
            "loss: 1.958612  [44864/60000]\n",
            "loss: 1.978461  [51264/60000]\n",
            "loss: 1.899700  [57664/60000]\n",
            "Test Error: \n",
            " Accuracy: 49.4%, Avg loss: 1.899399 \n",
            "\n",
            "Epoch 3\n",
            "-------------------------------\n",
            "loss: 1.929394  [   64/60000]\n",
            "loss: 1.898425  [ 6464/60000]\n",
            "loss: 1.791143  [12864/60000]\n",
            "loss: 1.829913  [19264/60000]\n",
            "loss: 1.717277  [25664/60000]\n",
            "loss: 1.678223  [32064/60000]\n",
            "loss: 1.698488  [38464/60000]\n",
            "loss: 1.598812  [44864/60000]\n",
            "loss: 1.639048  [51264/60000]\n",
            "loss: 1.527101  [57664/60000]\n",
            "Test Error: \n",
            " Accuracy: 58.8%, Avg loss: 1.543409 \n",
            "\n",
            "Epoch 4\n",
            "-------------------------------\n",
            "loss: 1.607412  [   64/60000]\n",
            "loss: 1.569628  [ 6464/60000]\n",
            "loss: 1.429578  [12864/60000]\n",
            "loss: 1.493644  [19264/60000]\n",
            "loss: 1.380909  [25664/60000]\n",
            "loss: 1.379547  [32064/60000]\n",
            "loss: 1.388474  [38464/60000]\n",
            "loss: 1.311742  [44864/60000]\n",
            "loss: 1.354222  [51264/60000]\n",
            "loss: 1.247147  [57664/60000]\n",
            "Test Error: \n",
            " Accuracy: 63.5%, Avg loss: 1.274080 \n",
            "\n",
            "Epoch 5\n",
            "-------------------------------\n",
            "loss: 1.346400  [   64/60000]\n",
            "loss: 1.326684  [ 6464/60000]\n",
            "loss: 1.168407  [12864/60000]\n",
            "loss: 1.264731  [19264/60000]\n",
            "loss: 1.152316  [25664/60000]\n",
            "loss: 1.174616  [32064/60000]\n",
            "loss: 1.189451  [38464/60000]\n",
            "loss: 1.125996  [44864/60000]\n",
            "loss: 1.168510  [51264/60000]\n",
            "loss: 1.075567  [57664/60000]\n",
            "Test Error: \n",
            " Accuracy: 65.0%, Avg loss: 1.100210 \n",
            "\n",
            "Epoch 6\n",
            "-------------------------------\n",
            "loss: 1.164749  [   64/60000]\n",
            "loss: 1.166788  [ 6464/60000]\n",
            "loss: 0.992125  [12864/60000]\n",
            "loss: 1.118238  [19264/60000]\n",
            "loss: 1.004138  [25664/60000]\n",
            "loss: 1.032010  [32064/60000]\n",
            "loss: 1.062455  [38464/60000]\n",
            "loss: 1.005335  [44864/60000]\n",
            "loss: 1.045532  [51264/60000]\n",
            "loss: 0.964878  [57664/60000]\n",
            "Test Error: \n",
            " Accuracy: 65.9%, Avg loss: 0.986244 \n",
            "\n",
            "Epoch 7\n",
            "-------------------------------\n",
            "loss: 1.037213  [   64/60000]\n",
            "loss: 1.061514  [ 6464/60000]\n",
            "loss: 0.871443  [12864/60000]\n",
            "loss: 1.020122  [19264/60000]\n",
            "loss: 0.908535  [25664/60000]\n",
            "loss: 0.931666  [32064/60000]\n",
            "loss: 0.978515  [38464/60000]\n",
            "loss: 0.927428  [44864/60000]\n",
            "loss: 0.961533  [51264/60000]\n",
            "loss: 0.891151  [57664/60000]\n",
            "Test Error: \n",
            " Accuracy: 66.7%, Avg loss: 0.909471 \n",
            "\n",
            "Epoch 8\n",
            "-------------------------------\n",
            "loss: 0.945240  [   64/60000]\n",
            "loss: 0.989968  [ 6464/60000]\n",
            "loss: 0.786939  [12864/60000]\n",
            "loss: 0.952028  [19264/60000]\n",
            "loss: 0.845428  [25664/60000]\n",
            "loss: 0.860046  [32064/60000]\n",
            "loss: 0.920473  [38464/60000]\n",
            "loss: 0.876935  [44864/60000]\n",
            "loss: 0.902600  [51264/60000]\n",
            "loss: 0.839789  [57664/60000]\n",
            "Test Error: \n",
            " Accuracy: 67.8%, Avg loss: 0.855719 \n",
            "\n",
            "Epoch 9\n",
            "-------------------------------\n",
            "loss: 0.876861  [   64/60000]\n",
            "loss: 0.938124  [ 6464/60000]\n",
            "loss: 0.725557  [12864/60000]\n",
            "loss: 0.903018  [19264/60000]\n",
            "loss: 0.801551  [25664/60000]\n",
            "loss: 0.807575  [32064/60000]\n",
            "loss: 0.877917  [38464/60000]\n",
            "loss: 0.843355  [44864/60000]\n",
            "loss: 0.859985  [51264/60000]\n",
            "loss: 0.801927  [57664/60000]\n",
            "Test Error: \n",
            " Accuracy: 68.9%, Avg loss: 0.816082 \n",
            "\n",
            "Epoch 10\n",
            "-------------------------------\n",
            "loss: 0.823917  [   64/60000]\n",
            "loss: 0.897623  [ 6464/60000]\n",
            "loss: 0.678974  [12864/60000]\n",
            "loss: 0.866245  [19264/60000]\n",
            "loss: 0.768979  [25664/60000]\n",
            "loss: 0.767999  [32064/60000]\n",
            "loss: 0.844619  [38464/60000]\n",
            "loss: 0.819438  [44864/60000]\n",
            "loss: 0.827885  [51264/60000]\n",
            "loss: 0.772333  [57664/60000]\n",
            "Test Error: \n",
            " Accuracy: 70.1%, Avg loss: 0.785283 \n",
            "\n",
            "Done!\n"
          ]
        },
        {
          "output_type": "display_data",
          "data": {
            "text/plain": [
              "<Figure size 1200x800 with 1 Axes>"
            ],
            "image/png": "[encoded data removed]"
          },
          "metadata": {}
        }
      ],
      "source": [
        "train_losses = []\n",
        "val_losses = []\n",
        "\n",
        "epochs = 10\n",
        "\n",
        "for t in range(epochs):\n",
        "    print(f\"Epoch {t+1}\\n-------------------------------\")\n",
        "    train_loss = train(train_dataloader, model, loss_fn, optimizer)\n",
        "    val_loss = test(test_dataloader, model, loss_fn)\n",
        "    train_losses.append(train_loss)\n",
        "    val_losses.append(val_loss)\n",
        "print(\"Done!\")\n",
        "\n",
        "plt.figure(figsize=(12, 8))\n",
        "plt.plot(train_losses, label='Train Loss')\n",
        "plt.plot(val_losses, label='Validation Loss')\n",
        "plt.title('Original Model Loss')\n",
        "plt.xlabel('Epoch')\n",
        "plt.ylabel('Loss')\n",
        "plt.legend()\n",
        "plt.grid(True)\n",
        "plt.tight_layout()\n",
        "plt.savefig('original_model_loss_plot.png')\n",
        "plt.show()"
      ]
    },
    {
      "cell_type": "markdown",
      "metadata": {
        "id": "xqNxlWLpv3TI"
      },
      "source": [
        "Read more about [Training your model](optimization_tutorial.html).\n"
      ]
    },
    {
      "cell_type": "markdown",
      "metadata": {
        "id": "Pa40HLFBv3TI"
      },
      "source": [
        "------------------------------------------------------------------------\n"
      ]
    },
    {
      "cell_type": "markdown",
      "metadata": {
        "id": "ciFm5k0Mv3TI"
      },
      "source": [
        "Saving Models\n",
        "=============\n",
        "\n",
        "A common way to save a model is to serialize the internal state\n",
        "dictionary (containing the model parameters).\n"
      ]
    },
    {
      "cell_type": "code",
      "execution_count": 10,
      "metadata": {
        "id": "P9-mp6W8v3TJ",
        "outputId": "76488a43-9a09-4206-e02e-da06834ebce1",
        "colab": {
          "base_uri": "https://localhost:8080/"
        }
      },
      "outputs": [
        {
          "output_type": "stream",
          "name": "stdout",
          "text": [
            "Saved PyTorch Model State to model.pth\n"
          ]
        }
      ],
      "source": [
        "torch.save(model.state_dict(), \"model.pth\")\n",
        "print(\"Saved PyTorch Model State to model.pth\")"
      ]
    },
    {
      "cell_type": "markdown",
      "metadata": {
        "id": "onV6bjlBv3TJ"
      },
      "source": [
        "Loading Models\n",
        "==============\n",
        "\n",
        "The process for loading a model includes re-creating the model structure\n",
        "and loading the state dictionary into it.\n"
      ]
    },
    {
      "cell_type": "code",
      "execution_count": 11,
      "metadata": {
        "id": "15_A3DJxv3TJ",
        "outputId": "29bf0fd2-f1f1-4e8c-f8ac-dcabe8090573",
        "colab": {
          "base_uri": "https://localhost:8080/"
        }
      },
      "outputs": [
        {
          "output_type": "execute_result",
          "data": {
            "text/plain": [
              "<All keys matched successfully>"
            ]
          },
          "metadata": {},
          "execution_count": 11
        }
      ],
      "source": [
        "model = NeuralNetwork().to(device)\n",
        "model.load_state_dict(torch.load(\"model.pth\", weights_only=True))"
      ]
    },
    {
      "cell_type": "markdown",
      "metadata": {
        "id": "XJGXZIJIv3TJ"
      },
      "source": [
        "This model can now be used to make predictions.\n"
      ]
    },
    {
      "cell_type": "code",
      "execution_count": 12,
      "metadata": {
        "id": "0brd6V4Mv3TJ",
        "outputId": "c604acf8-f272-4d4e-b609-f97d827a7025",
        "colab": {
          "base_uri": "https://localhost:8080/"
        }
      },
      "outputs": [
        {
          "output_type": "stream",
          "name": "stdout",
          "text": [
            "Predicted: \"Ankle boot\", Actual: \"Ankle boot\"\n"
          ]
        }
      ],
      "source": [
        "classes = [\n",
        "    \"T-shirt/top\",\n",
        "    \"Trouser\",\n",
        "    \"Pullover\",\n",
        "    \"Dress\",\n",
        "    \"Coat\",\n",
        "    \"Sandal\",\n",
        "    \"Shirt\",\n",
        "    \"Sneaker\",\n",
        "    \"Bag\",\n",
        "    \"Ankle boot\",\n",
        "]\n",
        "\n",
        "model.eval()\n",
        "x, y = test_data[0][0], test_data[0][1]\n",
        "with torch.no_grad():\n",
        "    x = x.to(device)\n",
        "    pred = model(x)\n",
        "    predicted, actual = classes[pred[0].argmax(0)], classes[y]\n",
        "    print(f'Predicted: \"{predicted}\", Actual: \"{actual}\"')"
      ]
    },
    {
      "cell_type": "markdown",
      "metadata": {
        "id": "xiVT-J16v3TJ"
      },
      "source": [
        "Read more about [Saving & Loading your\n",
        "model](saveloadrun_tutorial.html).\n"
      ]
    },
    {
      "cell_type": "code",
      "source": [
        "loss_fn = nn.MultiMarginLoss()\n",
        "\n",
        "train_losses = []\n",
        "val_losses = []\n",
        "\n",
        "epochs = 10\n",
        "\n",
        "for t in range(epochs):\n",
        "    print(f\"Epoch {t+1}\\n-------------------------------\")\n",
        "    train_loss = train(train_dataloader, model, loss_fn, optimizer)\n",
        "    val_loss = test(test_dataloader, model, loss_fn)\n",
        "    train_losses.append(train_loss)\n",
        "    val_losses.append(val_loss)\n",
        "print(\"Done!\")\n",
        "\n",
        "plt.figure(figsize=(12, 8))\n",
        "plt.plot(train_losses, label='Train Loss')\n",
        "plt.plot(val_losses, label='Validation Loss')\n",
        "plt.title('Original Model Loss')\n",
        "plt.xlabel('Epoch')\n",
        "plt.ylabel('Loss')\n",
        "plt.legend()\n",
        "plt.grid(True)\n",
        "plt.tight_layout()\n",
        "plt.savefig('new_model_loss_plot.png')\n",
        "plt.show()\n",
        "\n",
        "torch.save(model.state_dict(), \"model_2.pth\")\n",
        "print(\"Saved PyTorch Model State to model_2.pth\")"
      ],
      "metadata": {
        "id": "9YxkjVh4LMwp",
        "outputId": "ad5563bf-2352-4df7-d439-f4edb96f40fa",
        "colab": {
          "base_uri": "https://localhost:8080/",
          "height": 1000
        }
      },
      "execution_count": 38,
      "outputs": [
        {
          "output_type": "stream",
          "name": "stdout",
          "text": [
            "Epoch 1\n",
            "-------------------------------\n",
            "loss: 0.099520  [   64/60000]\n",
            "loss: 0.134497  [ 6464/60000]\n",
            "loss: 0.071047  [12864/60000]\n",
            "loss: 0.137324  [19264/60000]\n",
            "loss: 0.100071  [25664/60000]\n",
            "loss: 0.095739  [32064/60000]\n",
            "loss: 0.130677  [38464/60000]\n",
            "loss: 0.126400  [44864/60000]\n",
            "loss: 0.115203  [51264/60000]\n",
            "loss: 0.103062  [57664/60000]\n",
            "Test Error: \n",
            " Accuracy: 70.1%, Avg loss: 0.115616 \n",
            "\n",
            "Epoch 2\n",
            "-------------------------------\n",
            "loss: 0.099520  [   64/60000]\n",
            "loss: 0.134497  [ 6464/60000]\n",
            "loss: 0.071047  [12864/60000]\n",
            "loss: 0.137324  [19264/60000]\n",
            "loss: 0.100071  [25664/60000]\n",
            "loss: 0.095739  [32064/60000]\n",
            "loss: 0.130677  [38464/60000]\n",
            "loss: 0.126400  [44864/60000]\n",
            "loss: 0.115203  [51264/60000]\n",
            "loss: 0.103062  [57664/60000]\n",
            "Test Error: \n",
            " Accuracy: 70.1%, Avg loss: 0.115616 \n",
            "\n",
            "Epoch 3\n",
            "-------------------------------\n",
            "loss: 0.099520  [   64/60000]\n",
            "loss: 0.134497  [ 6464/60000]\n",
            "loss: 0.071047  [12864/60000]\n",
            "loss: 0.137324  [19264/60000]\n",
            "loss: 0.100071  [25664/60000]\n",
            "loss: 0.095739  [32064/60000]\n",
            "loss: 0.130677  [38464/60000]\n",
            "loss: 0.126400  [44864/60000]\n",
            "loss: 0.115203  [51264/60000]\n",
            "loss: 0.103062  [57664/60000]\n",
            "Test Error: \n",
            " Accuracy: 70.1%, Avg loss: 0.115616 \n",
            "\n",
            "Epoch 4\n",
            "-------------------------------\n",
            "loss: 0.099520  [   64/60000]\n",
            "loss: 0.134497  [ 6464/60000]\n",
            "loss: 0.071047  [12864/60000]\n",
            "loss: 0.137324  [19264/60000]\n",
            "loss: 0.100071  [25664/60000]\n",
            "loss: 0.095739  [32064/60000]\n",
            "loss: 0.130677  [38464/60000]\n",
            "loss: 0.126400  [44864/60000]\n",
            "loss: 0.115203  [51264/60000]\n",
            "loss: 0.103062  [57664/60000]\n",
            "Test Error: \n",
            " Accuracy: 70.1%, Avg loss: 0.115616 \n",
            "\n",
            "Epoch 5\n",
            "-------------------------------\n",
            "loss: 0.099520  [   64/60000]\n",
            "loss: 0.134497  [ 6464/60000]\n",
            "loss: 0.071047  [12864/60000]\n",
            "loss: 0.137324  [19264/60000]\n",
            "loss: 0.100071  [25664/60000]\n",
            "loss: 0.095739  [32064/60000]\n",
            "loss: 0.130677  [38464/60000]\n",
            "loss: 0.126400  [44864/60000]\n",
            "loss: 0.115203  [51264/60000]\n",
            "loss: 0.103062  [57664/60000]\n",
            "Test Error: \n",
            " Accuracy: 70.1%, Avg loss: 0.115616 \n",
            "\n",
            "Epoch 6\n",
            "-------------------------------\n",
            "loss: 0.099520  [   64/60000]\n",
            "loss: 0.134497  [ 6464/60000]\n",
            "loss: 0.071047  [12864/60000]\n",
            "loss: 0.137324  [19264/60000]\n",
            "loss: 0.100071  [25664/60000]\n",
            "loss: 0.095739  [32064/60000]\n",
            "loss: 0.130677  [38464/60000]\n",
            "loss: 0.126400  [44864/60000]\n",
            "loss: 0.115203  [51264/60000]\n",
            "loss: 0.103062  [57664/60000]\n",
            "Test Error: \n",
            " Accuracy: 70.1%, Avg loss: 0.115616 \n",
            "\n",
            "Epoch 7\n",
            "-------------------------------\n",
            "loss: 0.099520  [   64/60000]\n",
            "loss: 0.134497  [ 6464/60000]\n",
            "loss: 0.071047  [12864/60000]\n",
            "loss: 0.137324  [19264/60000]\n",
            "loss: 0.100071  [25664/60000]\n",
            "loss: 0.095739  [32064/60000]\n",
            "loss: 0.130677  [38464/60000]\n",
            "loss: 0.126400  [44864/60000]\n",
            "loss: 0.115203  [51264/60000]\n",
            "loss: 0.103062  [57664/60000]\n",
            "Test Error: \n",
            " Accuracy: 70.1%, Avg loss: 0.115616 \n",
            "\n",
            "Epoch 8\n",
            "-------------------------------\n",
            "loss: 0.099520  [   64/60000]\n",
            "loss: 0.134497  [ 6464/60000]\n",
            "loss: 0.071047  [12864/60000]\n",
            "loss: 0.137324  [19264/60000]\n",
            "loss: 0.100071  [25664/60000]\n",
            "loss: 0.095739  [32064/60000]\n",
            "loss: 0.130677  [38464/60000]\n",
            "loss: 0.126400  [44864/60000]\n",
            "loss: 0.115203  [51264/60000]\n",
            "loss: 0.103062  [57664/60000]\n",
            "Test Error: \n",
            " Accuracy: 70.1%, Avg loss: 0.115616 \n",
            "\n",
            "Epoch 9\n",
            "-------------------------------\n",
            "loss: 0.099520  [   64/60000]\n",
            "loss: 0.134497  [ 6464/60000]\n",
            "loss: 0.071047  [12864/60000]\n",
            "loss: 0.137324  [19264/60000]\n",
            "loss: 0.100071  [25664/60000]\n",
            "loss: 0.095739  [32064/60000]\n",
            "loss: 0.130677  [38464/60000]\n",
            "loss: 0.126400  [44864/60000]\n",
            "loss: 0.115203  [51264/60000]\n",
            "loss: 0.103062  [57664/60000]\n",
            "Test Error: \n",
            " Accuracy: 70.1%, Avg loss: 0.115616 \n",
            "\n",
            "Epoch 10\n",
            "-------------------------------\n",
            "loss: 0.099520  [   64/60000]\n",
            "loss: 0.134497  [ 6464/60000]\n",
            "loss: 0.071047  [12864/60000]\n",
            "loss: 0.137324  [19264/60000]\n",
            "loss: 0.100071  [25664/60000]\n",
            "loss: 0.095739  [32064/60000]\n",
            "loss: 0.130677  [38464/60000]\n",
            "loss: 0.126400  [44864/60000]\n",
            "loss: 0.115203  [51264/60000]\n",
            "loss: 0.103062  [57664/60000]\n",
            "Test Error: \n",
            " Accuracy: 70.1%, Avg loss: 0.115616 \n",
            "\n",
            "Done!\n"
          ]
        },
        {
          "output_type": "display_data",
          "data": {
            "text/plain": [
              "<Figure size 1200x800 with 1 Axes>"
            ],
            "image/png": "[encoded data removed]"
          },
          "metadata": {}
        },
        {
          "output_type": "stream",
          "name": "stdout",
          "text": [
            "Saved PyTorch Model State to model_2.pth\n"
          ]
        }
      ]
    },
    {
      "cell_type": "code",
      "source": [
        "class SimpleCNN(nn.Module):\n",
        "    def __init__(self):\n",
        "        super().__init__()\n",
        "        self.conv_stack = nn.Sequential(\n",
        "            nn.Conv2d(1, 32, kernel_size=3, padding=1),  # 1 input channel (grayscale), 32 filters\n",
        "            nn.ReLU(),\n",
        "            nn.MaxPool2d(2),  # 28x28 -> 14x14\n",
        "            nn.Flatten(),\n",
        "            nn.Linear(32 * 14 * 14, 128),\n",
        "            nn.ReLU(),\n",
        "            nn.Linear(128, 10)\n",
        "        )\n",
        "\n",
        "    def forward(self, x):\n",
        "        return self.conv_stack(x)\n",
        "\n",
        "cnn_model = SimpleCNN().to(device)\n",
        "print(cnn_model)\n",
        "\n",
        "loss_fn = nn.CrossEntropyLoss()\n",
        "optimizer = torch.optim.SGD(cnn_model.parameters(), lr=1e-3)\n",
        "\n",
        "# Training and evaluation\n",
        "cnn_train_losses = []\n",
        "cnn_val_losses = []\n",
        "\n",
        "for t in range(epochs):\n",
        "    print(f\"[CNN] Epoch {t+1}\\n-------------------------------\")\n",
        "    train_loss = train(train_dataloader, cnn_model, loss_fn, optimizer)\n",
        "    val_loss = test(test_dataloader, cnn_model, loss_fn)\n",
        "    cnn_train_losses.append(train_loss)\n",
        "    cnn_val_losses.append(val_loss)\n",
        "\n",
        "# Save model\n",
        "torch.save(cnn_model.state_dict(), \"single_cnn_model.pth\")\n",
        "\n",
        "# Plot\n",
        "plt.figure(figsize=(8, 5))\n",
        "plt.plot(cnn_train_losses, label='Train Loss')\n",
        "plt.plot(cnn_val_losses, label='Validation Loss')\n",
        "plt.title('Single CNN Layer Model Loss')\n",
        "plt.xlabel('Epoch')\n",
        "plt.ylabel('Loss')\n",
        "plt.legend()\n",
        "plt.grid(True)\n",
        "plt.tight_layout()\n",
        "plt.savefig('single_cnn_model_loss_plot.png')\n",
        "plt.show()\n"
      ],
      "metadata": {
        "id": "4F5gFvYXspmt",
        "outputId": "017d5a24-0136-45e7-a4a7-810c4a714ddc",
        "colab": {
          "base_uri": "https://localhost:8080/",
          "height": 1000
        }
      },
      "execution_count": 14,
      "outputs": [
        {
          "output_type": "stream",
          "name": "stdout",
          "text": [
            "SimpleCNN(\n",
            "  (conv_stack): Sequential(\n",
            "    (0): Conv2d(1, 32, kernel_size=(3, 3), stride=(1, 1), padding=(1, 1))\n",
            "    (1): ReLU()\n",
            "    (2): MaxPool2d(kernel_size=2, stride=2, padding=0, dilation=1, ceil_mode=False)\n",
            "    (3): Flatten(start_dim=1, end_dim=-1)\n",
            "    (4): Linear(in_features=6272, out_features=128, bias=True)\n",
            "    (5): ReLU()\n",
            "    (6): Linear(in_features=128, out_features=10, bias=True)\n",
            "  )\n",
            ")\n",
            "[CNN] Epoch 1\n",
            "-------------------------------\n",
            "loss: 2.304408  [   64/60000]\n",
            "loss: 2.246220  [ 6464/60000]\n",
            "loss: 2.179647  [12864/60000]\n",
            "loss: 2.156558  [19264/60000]\n",
            "loss: 2.052373  [25664/60000]\n",
            "loss: 1.997742  [32064/60000]\n",
            "loss: 1.928145  [38464/60000]\n",
            "loss: 1.841449  [44864/60000]\n",
            "loss: 1.753538  [51264/60000]\n",
            "loss: 1.639481  [57664/60000]\n",
            "Test Error: \n",
            " Accuracy: 63.8%, Avg loss: 1.619861 \n",
            "\n",
            "[CNN] Epoch 2\n",
            "-------------------------------\n",
            "loss: 1.653781  [   64/60000]\n",
            "loss: 1.600607  [ 6464/60000]\n",
            "loss: 1.401632  [12864/60000]\n",
            "loss: 1.460068  [19264/60000]\n",
            "loss: 1.237280  [25664/60000]\n",
            "loss: 1.251125  [32064/60000]\n",
            "loss: 1.193013  [38464/60000]\n",
            "loss: 1.129311  [44864/60000]\n",
            "loss: 1.137012  [51264/60000]\n",
            "loss: 1.050859  [57664/60000]\n",
            "Test Error: \n",
            " Accuracy: 70.2%, Avg loss: 1.025928 \n",
            "\n",
            "[CNN] Epoch 3\n",
            "-------------------------------\n",
            "loss: 1.073793  [   64/60000]\n",
            "loss: 1.090027  [ 6464/60000]\n",
            "loss: 0.863349  [12864/60000]\n",
            "loss: 1.061174  [19264/60000]\n",
            "loss: 0.887576  [25664/60000]\n",
            "loss: 0.920944  [32064/60000]\n",
            "loss: 0.915166  [38464/60000]\n",
            "loss: 0.854892  [44864/60000]\n",
            "loss: 0.898783  [51264/60000]\n",
            "loss: 0.859587  [57664/60000]\n",
            "Test Error: \n",
            " Accuracy: 73.0%, Avg loss: 0.821026 \n",
            "\n",
            "[CNN] Epoch 4\n",
            "-------------------------------\n",
            "loss: 0.822539  [   64/60000]\n",
            "loss: 0.900767  [ 6464/60000]\n",
            "loss: 0.653082  [12864/60000]\n",
            "loss: 0.906343  [19264/60000]\n",
            "loss: 0.777883  [25664/60000]\n",
            "loss: 0.783704  [32064/60000]\n",
            "loss: 0.805393  [38464/60000]\n",
            "loss: 0.749414  [44864/60000]\n",
            "loss: 0.792611  [51264/60000]\n",
            "loss: 0.775622  [57664/60000]\n",
            "Test Error: \n",
            " Accuracy: 74.7%, Avg loss: 0.729906 \n",
            "\n",
            "[CNN] Epoch 5\n",
            "-------------------------------\n",
            "loss: 0.692257  [   64/60000]\n",
            "loss: 0.806144  [ 6464/60000]\n",
            "loss: 0.553109  [12864/60000]\n",
            "loss: 0.823066  [19264/60000]\n",
            "loss: 0.721459  [25664/60000]\n",
            "loss: 0.714646  [32064/60000]\n",
            "loss: 0.744406  [38464/60000]\n",
            "loss: 0.702403  [44864/60000]\n",
            "loss: 0.736733  [51264/60000]\n",
            "loss: 0.725386  [57664/60000]\n",
            "Test Error: \n",
            " Accuracy: 76.0%, Avg loss: 0.677774 \n",
            "\n",
            "[CNN] Epoch 6\n",
            "-------------------------------\n",
            "loss: 0.615222  [   64/60000]\n",
            "loss: 0.745819  [ 6464/60000]\n",
            "loss: 0.497516  [12864/60000]\n",
            "loss: 0.768432  [19264/60000]\n",
            "loss: 0.681631  [25664/60000]\n",
            "loss: 0.675192  [32064/60000]\n",
            "loss: 0.701400  [38464/60000]\n",
            "loss: 0.676707  [44864/60000]\n",
            "loss: 0.703531  [51264/60000]\n",
            "loss: 0.688023  [57664/60000]\n",
            "Test Error: \n",
            " Accuracy: 77.0%, Avg loss: 0.642285 \n",
            "\n",
            "[CNN] Epoch 7\n",
            "-------------------------------\n",
            "loss: 0.564333  [   64/60000]\n",
            "loss: 0.701461  [ 6464/60000]\n",
            "loss: 0.461345  [12864/60000]\n",
            "loss: 0.728175  [19264/60000]\n",
            "loss: 0.649257  [25664/60000]\n",
            "loss: 0.649081  [32064/60000]\n",
            "loss: 0.666578  [38464/60000]\n",
            "loss: 0.660529  [44864/60000]\n",
            "loss: 0.683473  [51264/60000]\n",
            "loss: 0.656685  [57664/60000]\n",
            "Test Error: \n",
            " Accuracy: 77.9%, Avg loss: 0.615453 \n",
            "\n",
            "[CNN] Epoch 8\n",
            "-------------------------------\n",
            "loss: 0.527887  [   64/60000]\n",
            "loss: 0.665287  [ 6464/60000]\n",
            "loss: 0.435499  [12864/60000]\n",
            "loss: 0.696859  [19264/60000]\n",
            "loss: 0.622617  [25664/60000]\n",
            "loss: 0.630665  [32064/60000]\n",
            "loss: 0.636335  [38464/60000]\n",
            "loss: 0.649319  [44864/60000]\n",
            "loss: 0.671035  [51264/60000]\n",
            "loss: 0.629244  [57664/60000]\n",
            "Test Error: \n",
            " Accuracy: 78.7%, Avg loss: 0.594014 \n",
            "\n",
            "[CNN] Epoch 9\n",
            "-------------------------------\n",
            "loss: 0.500243  [   64/60000]\n",
            "loss: 0.635124  [ 6464/60000]\n",
            "loss: 0.415340  [12864/60000]\n",
            "loss: 0.671934  [19264/60000]\n",
            "loss: 0.599580  [25664/60000]\n",
            "loss: 0.616942  [32064/60000]\n",
            "loss: 0.609794  [38464/60000]\n",
            "loss: 0.641368  [44864/60000]\n",
            "loss: 0.663306  [51264/60000]\n",
            "loss: 0.604465  [57664/60000]\n",
            "Test Error: \n",
            " Accuracy: 79.5%, Avg loss: 0.576267 \n",
            "\n",
            "[CNN] Epoch 10\n",
            "-------------------------------\n",
            "loss: 0.477730  [   64/60000]\n",
            "loss: 0.609322  [ 6464/60000]\n",
            "loss: 0.398638  [12864/60000]\n",
            "loss: 0.651118  [19264/60000]\n",
            "loss: 0.579458  [25664/60000]\n",
            "loss: 0.605721  [32064/60000]\n",
            "loss: 0.585932  [38464/60000]\n",
            "loss: 0.635722  [44864/60000]\n",
            "loss: 0.658468  [51264/60000]\n",
            "loss: 0.582622  [57664/60000]\n",
            "Test Error: \n",
            " Accuracy: 80.0%, Avg loss: 0.561326 \n",
            "\n"
          ]
        },
        {
          "output_type": "display_data",
          "data": {
            "text/plain": [
              "<Figure size 800x500 with 1 Axes>"
            ],
            "image/png": "[encoded data removed]"
          },
          "metadata": {}
        }
      ]
    },
    {
      "cell_type": "markdown",
      "source": [
        "#### Observations\n",
        "\n",
        "* **Model 1:** CrossEntropyLoss\n",
        "\n",
        "Slower convergence than CNN model\n",
        "\n",
        "* **Model 2:** MultiMarginLoss\n",
        "\n",
        "Loss never decreases, model never converges. Perhaps, the loss function wasn't suited for the task.\n",
        "\n",
        "* **Model 3:** CNN Model\n",
        "\n",
        "Faster convergence than both above models"
      ],
      "metadata": {
        "id": "9lMfo-S5RjVD"
      }
    }
  ],
  "metadata": {
    "kernelspec": {
      "display_name": "Python 3",
      "language": "python",
      "name": "python3"
    },
    "language_info": {
      "codemirror_mode": {
        "name": "ipython",
        "version": 3
      },
      "file_extension": ".py",
      "mimetype": "text/x-python",
      "name": "python",
      "nbconvert_exporter": "python",
      "pygments_lexer": "ipython3",
      "version": "3.10.12"
    },
    "colab": {
      "provenance": [],
      "include_colab_link": true
    }
  },
  "nbformat": 4,
  "nbformat_minor": 0
}